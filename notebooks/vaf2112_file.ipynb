{
 "cells": [
  {
   "cell_type": "code",
   "execution_count": 1,
   "id": "8c78ce6e",
   "metadata": {},
   "outputs": [],
   "source": [
    "import pandas as pd"
   ]
  },
  {
   "cell_type": "code",
   "execution_count": 34,
   "id": "5f06bf02",
   "metadata": {},
   "outputs": [],
   "source": [
    "data = pd.read_csv('../master_clauses.csv', on_bad_lines='skip')"
   ]
  },
  {
   "cell_type": "code",
   "execution_count": 35,
   "id": "044f877d",
   "metadata": {},
   "outputs": [
    {
     "data": {
      "text/plain": [
       "(272, 83)"
      ]
     },
     "execution_count": 35,
     "metadata": {},
     "output_type": "execute_result"
    }
   ],
   "source": [
    "data.shape"
   ]
  },
  {
   "cell_type": "code",
   "execution_count": 36,
   "id": "b5f873d8",
   "metadata": {},
   "outputs": [
    {
     "data": {
      "text/plain": [
       "Index(['Filename', 'Document Name', 'Document Name-Answer', 'Parties',\n",
       "       'Parties-Answer', 'Agreement Date', 'Agreement Date-Answer',\n",
       "       'Effective Date', 'Effective Date-Answer', 'Expiration Date',\n",
       "       'Expiration Date-Answer', 'Renewal Term', 'Renewal Term-Answer',\n",
       "       'Notice Period To Terminate Renewal',\n",
       "       'Notice Period To Terminate Renewal- Answer', 'Governing Law',\n",
       "       'Governing Law-Answer', 'Most Favored Nation',\n",
       "       'Most Favored Nation-Answer', 'Competitive Restriction Exception',\n",
       "       'Competitive Restriction Exception-Answer', 'Non-Compete',\n",
       "       'Non-Compete-Answer', 'Exclusivity', 'Exclusivity-Answer',\n",
       "       'No-Solicit Of Customers', 'No-Solicit Of Customers-Answer',\n",
       "       'No-Solicit Of Employees', 'No-Solicit Of Employees-Answer',\n",
       "       'Non-Disparagement', 'Non-Disparagement-Answer',\n",
       "       'Termination For Convenience', 'Termination For Convenience-Answer',\n",
       "       'Rofr/Rofo/Rofn', 'Rofr/Rofo/Rofn-Answer', 'Change Of Control',\n",
       "       'Change Of Control-Answer', 'Anti-Assignment', 'Anti-Assignment-Answer',\n",
       "       'Revenue/Profit Sharing', 'Revenue/Profit Sharing-Answer',\n",
       "       'Price Restrictions', 'Price Restrictions-Answer', 'Minimum Commitment',\n",
       "       'Minimum Commitment-Answer', 'Volume Restriction',\n",
       "       'Volume Restriction-Answer', 'Ip Ownership Assignment',\n",
       "       'Ip Ownership Assignment-Answer', 'Joint Ip Ownership',\n",
       "       'Joint Ip Ownership-Answer', 'License Grant', 'License Grant-Answer',\n",
       "       'Non-Transferable License', 'Non-Transferable License-Answer',\n",
       "       'Affiliate License-Licensor', 'Affiliate License-Licensor-Answer',\n",
       "       'Affiliate License-Licensee', 'Affiliate License-Licensee-Answer',\n",
       "       'Unlimited/All-You-Can-Eat-License',\n",
       "       'Unlimited/All-You-Can-Eat-License-Answer',\n",
       "       'Irrevocable Or Perpetual License',\n",
       "       'Irrevocable Or Perpetual License-Answer', 'Source Code Escrow',\n",
       "       'Source Code Escrow-Answer', 'Post-Termination Services',\n",
       "       'Post-Termination Services-Answer', 'Audit Rights',\n",
       "       'Audit Rights-Answer', 'Uncapped Liability',\n",
       "       'Uncapped Liability-Answer', 'Cap On Liability',\n",
       "       'Cap On Liability-Answer', 'Liquidated Damages',\n",
       "       'Liquidated Damages-Answer', 'Warranty Duration',\n",
       "       'Warranty Duration-Answer', 'Insurance', 'Insurance-Answer',\n",
       "       'Covenant Not To Sue', 'Covenant Not To Sue-Answer',\n",
       "       'Third Party Beneficiary',\n",
       "       'Third Party Beneficiary-Answer;;;;;;;;;;;;;;;;;;;;;;;;;;;;;;;;;;;;;;;;;;;;;;;;;;;;;;;;'],\n",
       "      dtype='object')"
      ]
     },
     "execution_count": 36,
     "metadata": {},
     "output_type": "execute_result"
    }
   ],
   "source": [
    "data.columns"
   ]
  },
  {
   "cell_type": "code",
   "execution_count": 33,
   "id": "10e45971",
   "metadata": {},
   "outputs": [
    {
     "data": {
      "text/plain": [
       "Filename                                                                                                                               sell\n",
       "Document Name                                                                              lease or otherwise transfer in whole or in pa...\n",
       "Document Name-Answer                                                                                                                    Yes\n",
       "Parties                                                                                                                                  []\n",
       "Parties-Answer                                                                                                                           No\n",
       "                                                                                                                ...                        \n",
       "Insurance-Answer                                                                                                                         No\n",
       "Covenant Not To Sue                                                                                                                      []\n",
       "Covenant Not To Sue-Answer                                                                                                               No\n",
       "Third Party Beneficiary                                                                                                                  []\n",
       "Third Party Beneficiary-Answer;;;;;;;;;;;;;;;;;;;;;;;;;;;;;;;;;;;;;;;;;;;;;;;;;;;;;;;;    No\";;;;;;;;;;;;;;;;;;;;;;;;;;;;;;;;;;;;;;;;;;;...\n",
       "Name: (CybergyHoldingsInc_20140520_10-Q_EX-10.27_8605784_EX-10.27_Affiliate Agreement.pdf,['MARKETING AFFILIATE AGREEMENT'],MARKETING AFFILIATE AGREEMENT,\"['BIRCH FIRST GLOBAL INVESTMENTS INC.', 'MA', 'Marketing Affiliate', 'MOUNT KNOWLEDGE HOLDINGS INC.', 'Company']\",\"Birch First Global Investments Inc. (\"\"Company\"\");\" Mount Kowledge Holdings Inc. (\"\"\"\"Marketing Affiliate\"\"\"\",  \"\"\"\"MA\"\"\"\")\"\", ['8th day of May 2014',  'May 8,  2014']\"\", 5/8/14, ['This agreement shall begin upon the date of its execution by MA and acceptance in writing by Company'], nan, ['This agreement shall begin upon the date of its execution by MA and acceptance in writing by Company and shall remain in effect until the end of the current calendar year and shall be automatically renewed for successive one (1) year periods unless otherwise terminated according to the cancellation or termination provisions contained in paragraph 18 of this Agreement.'], 12/31/14, ['This agreement shall begin upon the date of its execution by MA and acceptance in writing by Company and shall remain in effect until the end of the current calendar year and shall be automatically renewed for successive one (1) year periods unless otherwise terminated according to the cancellation or termination provisions contained in paragraph 18 of this Agreement.'], successive 1 year, ['This Agreement may be terminated by either party at the expiration of its term or any renewal term upon thirty (30) days written notice to the other party.'], 30 days, ['This Agreement is accepted by Company in the State of Nevada and shall be governed by and construed in accordance with the laws thereof,  which laws shall prevail in the event of any conflict.']\"\", Nevada, [], No, [], No, [], No, [], No, [], No, [], No, ['Company shall not specify the business practices of MA,  nor regulate the manner in which MA shall operate its business,  provided that MA (a) conducts business in a manner that reflects favorably at all times on the Technology sold and the good name,  goodwill and reputation of Company and its affiliates<omitted>']\"\", Yes, [], No, [], No, [], No, ['MA may not assign), Length: 83, dtype: object"
      ]
     },
     "execution_count": 33,
     "metadata": {},
     "output_type": "execute_result"
    }
   ],
   "source": [
    "data.iloc[0]"
   ]
  },
  {
   "cell_type": "code",
   "execution_count": 42,
   "id": "bd416239",
   "metadata": {},
   "outputs": [
    {
     "data": {
      "text/html": [
       "<div>\n",
       "<style scoped>\n",
       "    .dataframe tbody tr th:only-of-type {\n",
       "        vertical-align: middle;\n",
       "    }\n",
       "\n",
       "    .dataframe tbody tr th {\n",
       "        vertical-align: top;\n",
       "    }\n",
       "\n",
       "    .dataframe thead th {\n",
       "        text-align: right;\n",
       "    }\n",
       "</style>\n",
       "<table border=\"1\" class=\"dataframe\">\n",
       "  <thead>\n",
       "    <tr style=\"text-align: right;\">\n",
       "      <th></th>\n",
       "      <th>index</th>\n",
       "      <th>0</th>\n",
       "    </tr>\n",
       "  </thead>\n",
       "  <tbody>\n",
       "    <tr>\n",
       "      <th>0</th>\n",
       "      <td>1</td>\n",
       "      <td>1</td>\n",
       "    </tr>\n",
       "    <tr>\n",
       "      <th>1</th>\n",
       "      <td>2</td>\n",
       "      <td>2</td>\n",
       "    </tr>\n",
       "  </tbody>\n",
       "</table>\n",
       "</div>"
      ],
      "text/plain": [
       "   index  0\n",
       "0      1  1\n",
       "1      2  2"
      ]
     },
     "execution_count": 42,
     "metadata": {},
     "output_type": "execute_result"
    }
   ],
   "source": [
    "test = pd.DataFrame([1, 2], [1, 2]).reset_index()\n",
    "test"
   ]
  },
  {
   "cell_type": "code",
   "execution_count": 43,
   "id": "28e95313",
   "metadata": {},
   "outputs": [
    {
     "data": {
      "text/plain": [
       "(2, 2)"
      ]
     },
     "execution_count": 43,
     "metadata": {},
     "output_type": "execute_result"
    }
   ],
   "source": [
    "test.shape"
   ]
  },
  {
   "cell_type": "code",
   "execution_count": 45,
   "id": "f2ae7fde",
   "metadata": {},
   "outputs": [
    {
     "data": {
      "text/plain": [
       "0    1\n",
       "1    2\n",
       "Name: index, dtype: int64"
      ]
     },
     "execution_count": 45,
     "metadata": {},
     "output_type": "execute_result"
    }
   ],
   "source": [
    "test.loc[:, 'index']"
   ]
  },
  {
   "cell_type": "code",
   "execution_count": 47,
   "id": "ea041104",
   "metadata": {},
   "outputs": [],
   "source": [
    "data.reset_index(inplace=True)"
   ]
  },
  {
   "cell_type": "code",
   "execution_count": 49,
   "id": "155669b5",
   "metadata": {},
   "outputs": [
    {
     "data": {
      "text/plain": [
       "0     sell\n",
       "Name: Filename, dtype: object"
      ]
     },
     "execution_count": 49,
     "metadata": {},
     "output_type": "execute_result"
    }
   ],
   "source": [
    "data.loc[:0, 'Filename']"
   ]
  },
  {
   "cell_type": "code",
   "execution_count": 50,
   "id": "6f752a84",
   "metadata": {},
   "outputs": [
    {
     "data": {
      "text/plain": [
       "level_0                                                                                   CybergyHoldingsInc_20140520_10-Q_EX-10.27_8605...\n",
       "level_1                                                                                                                       \"\"\"\"MA\"\"\"\")\"\"\n",
       "level_2                                                                                                              ['8th day of May 2014'\n",
       "level_3                                                                                                                              'May 8\n",
       "level_4                                                                                                                            2014']\"\"\n",
       "                                                                                                                ...                        \n",
       "Insurance-Answer                                                                                                                         No\n",
       "Covenant Not To Sue                                                                                                                      []\n",
       "Covenant Not To Sue-Answer                                                                                                               No\n",
       "Third Party Beneficiary                                                                                                                  []\n",
       "Third Party Beneficiary-Answer;;;;;;;;;;;;;;;;;;;;;;;;;;;;;;;;;;;;;;;;;;;;;;;;;;;;;;;;    No\";;;;;;;;;;;;;;;;;;;;;;;;;;;;;;;;;;;;;;;;;;;...\n",
       "Name: 0, Length: 124, dtype: object"
      ]
     },
     "execution_count": 50,
     "metadata": {},
     "output_type": "execute_result"
    }
   ],
   "source": [
    "data.iloc[0]"
   ]
  },
  {
   "cell_type": "code",
   "execution_count": 56,
   "id": "eb9b8afb",
   "metadata": {},
   "outputs": [
    {
     "data": {
      "text/plain": [
       "' transfer or assign this Agreement or any part'"
      ]
     },
     "execution_count": 56,
     "metadata": {},
     "output_type": "execute_result"
    }
   ],
   "source": [
    "data.loc[8, 'Parties-Answer']"
   ]
  }
 ],
 "metadata": {
  "kernelspec": {
   "display_name": "Python 3 (ipykernel)",
   "language": "python",
   "name": "python3"
  },
  "language_info": {
   "codemirror_mode": {
    "name": "ipython",
    "version": 3
   },
   "file_extension": ".py",
   "mimetype": "text/x-python",
   "name": "python",
   "nbconvert_exporter": "python",
   "pygments_lexer": "ipython3",
   "version": "3.8.12"
  }
 },
 "nbformat": 4,
 "nbformat_minor": 5
}
