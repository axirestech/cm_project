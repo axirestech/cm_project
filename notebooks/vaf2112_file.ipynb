{
 "cells": [
  {
   "cell_type": "code",
   "execution_count": 2,
   "id": "8c78ce6e",
   "metadata": {},
   "outputs": [],
   "source": [
    "import pandas as pd"
   ]
  },
  {
   "cell_type": "code",
   "execution_count": 28,
   "id": "5f06bf02",
   "metadata": {},
   "outputs": [],
   "source": [
    "data = pd.read_csv('../raw_data/master_clauses.csv', on_bad_lines='skip')"
   ]
  },
  {
   "cell_type": "code",
   "execution_count": 4,
   "id": "044f877d",
   "metadata": {},
   "outputs": [
    {
     "data": {
      "text/plain": [
       "(272, 83)"
      ]
     },
     "execution_count": 4,
     "metadata": {},
     "output_type": "execute_result"
    }
   ],
   "source": [
    "data.shape"
   ]
  },
  {
   "cell_type": "code",
   "execution_count": 5,
   "id": "b5f873d8",
   "metadata": {},
   "outputs": [
    {
     "data": {
      "text/plain": [
       "Index(['Filename', 'Document Name', 'Document Name-Answer', 'Parties',\n",
       "       'Parties-Answer', 'Agreement Date', 'Agreement Date-Answer',\n",
       "       'Effective Date', 'Effective Date-Answer', 'Expiration Date',\n",
       "       'Expiration Date-Answer', 'Renewal Term', 'Renewal Term-Answer',\n",
       "       'Notice Period To Terminate Renewal',\n",
       "       'Notice Period To Terminate Renewal- Answer', 'Governing Law',\n",
       "       'Governing Law-Answer', 'Most Favored Nation',\n",
       "       'Most Favored Nation-Answer', 'Competitive Restriction Exception',\n",
       "       'Competitive Restriction Exception-Answer', 'Non-Compete',\n",
       "       'Non-Compete-Answer', 'Exclusivity', 'Exclusivity-Answer',\n",
       "       'No-Solicit Of Customers', 'No-Solicit Of Customers-Answer',\n",
       "       'No-Solicit Of Employees', 'No-Solicit Of Employees-Answer',\n",
       "       'Non-Disparagement', 'Non-Disparagement-Answer',\n",
       "       'Termination For Convenience', 'Termination For Convenience-Answer',\n",
       "       'Rofr/Rofo/Rofn', 'Rofr/Rofo/Rofn-Answer', 'Change Of Control',\n",
       "       'Change Of Control-Answer', 'Anti-Assignment', 'Anti-Assignment-Answer',\n",
       "       'Revenue/Profit Sharing', 'Revenue/Profit Sharing-Answer',\n",
       "       'Price Restrictions', 'Price Restrictions-Answer', 'Minimum Commitment',\n",
       "       'Minimum Commitment-Answer', 'Volume Restriction',\n",
       "       'Volume Restriction-Answer', 'Ip Ownership Assignment',\n",
       "       'Ip Ownership Assignment-Answer', 'Joint Ip Ownership',\n",
       "       'Joint Ip Ownership-Answer', 'License Grant', 'License Grant-Answer',\n",
       "       'Non-Transferable License', 'Non-Transferable License-Answer',\n",
       "       'Affiliate License-Licensor', 'Affiliate License-Licensor-Answer',\n",
       "       'Affiliate License-Licensee', 'Affiliate License-Licensee-Answer',\n",
       "       'Unlimited/All-You-Can-Eat-License',\n",
       "       'Unlimited/All-You-Can-Eat-License-Answer',\n",
       "       'Irrevocable Or Perpetual License',\n",
       "       'Irrevocable Or Perpetual License-Answer', 'Source Code Escrow',\n",
       "       'Source Code Escrow-Answer', 'Post-Termination Services',\n",
       "       'Post-Termination Services-Answer', 'Audit Rights',\n",
       "       'Audit Rights-Answer', 'Uncapped Liability',\n",
       "       'Uncapped Liability-Answer', 'Cap On Liability',\n",
       "       'Cap On Liability-Answer', 'Liquidated Damages',\n",
       "       'Liquidated Damages-Answer', 'Warranty Duration',\n",
       "       'Warranty Duration-Answer', 'Insurance', 'Insurance-Answer',\n",
       "       'Covenant Not To Sue', 'Covenant Not To Sue-Answer',\n",
       "       'Third Party Beneficiary',\n",
       "       'Third Party Beneficiary-Answer;;;;;;;;;;;;;;;;;;;;;;;;;;;;;;;;;;;;;;;;;;;;;;;;;;;;;;;;'],\n",
       "      dtype='object')"
      ]
     },
     "execution_count": 5,
     "metadata": {},
     "output_type": "execute_result"
    }
   ],
   "source": [
    "data.columns"
   ]
  },
  {
   "cell_type": "code",
   "execution_count": 6,
   "id": "10e45971",
   "metadata": {},
   "outputs": [
    {
     "data": {
      "text/plain": [
       "Filename                                                                                                                               sell\n",
       "Document Name                                                                              lease or otherwise transfer in whole or in pa...\n",
       "Document Name-Answer                                                                                                                    Yes\n",
       "Parties                                                                                                                                  []\n",
       "Parties-Answer                                                                                                                           No\n",
       "                                                                                                                ...                        \n",
       "Insurance-Answer                                                                                                                         No\n",
       "Covenant Not To Sue                                                                                                                      []\n",
       "Covenant Not To Sue-Answer                                                                                                               No\n",
       "Third Party Beneficiary                                                                                                                  []\n",
       "Third Party Beneficiary-Answer;;;;;;;;;;;;;;;;;;;;;;;;;;;;;;;;;;;;;;;;;;;;;;;;;;;;;;;;    No\";;;;;;;;;;;;;;;;;;;;;;;;;;;;;;;;;;;;;;;;;;;...\n",
       "Name: (CybergyHoldingsInc_20140520_10-Q_EX-10.27_8605784_EX-10.27_Affiliate Agreement.pdf,['MARKETING AFFILIATE AGREEMENT'],MARKETING AFFILIATE AGREEMENT,\"['BIRCH FIRST GLOBAL INVESTMENTS INC.', 'MA', 'Marketing Affiliate', 'MOUNT KNOWLEDGE HOLDINGS INC.', 'Company']\",\"Birch First Global Investments Inc. (\"\"Company\"\");\" Mount Kowledge Holdings Inc. (\"\"\"\"Marketing Affiliate\"\"\"\",  \"\"\"\"MA\"\"\"\")\"\", ['8th day of May 2014',  'May 8,  2014']\"\", 5/8/14, ['This agreement shall begin upon the date of its execution by MA and acceptance in writing by Company'], nan, ['This agreement shall begin upon the date of its execution by MA and acceptance in writing by Company and shall remain in effect until the end of the current calendar year and shall be automatically renewed for successive one (1) year periods unless otherwise terminated according to the cancellation or termination provisions contained in paragraph 18 of this Agreement.'], 12/31/14, ['This agreement shall begin upon the date of its execution by MA and acceptance in writing by Company and shall remain in effect until the end of the current calendar year and shall be automatically renewed for successive one (1) year periods unless otherwise terminated according to the cancellation or termination provisions contained in paragraph 18 of this Agreement.'], successive 1 year, ['This Agreement may be terminated by either party at the expiration of its term or any renewal term upon thirty (30) days written notice to the other party.'], 30 days, ['This Agreement is accepted by Company in the State of Nevada and shall be governed by and construed in accordance with the laws thereof,  which laws shall prevail in the event of any conflict.']\"\", Nevada, [], No, [], No, [], No, [], No, [], No, [], No, ['Company shall not specify the business practices of MA,  nor regulate the manner in which MA shall operate its business,  provided that MA (a) conducts business in a manner that reflects favorably at all times on the Technology sold and the good name,  goodwill and reputation of Company and its affiliates<omitted>']\"\", Yes, [], No, [], No, [], No, ['MA may not assign), Length: 83, dtype: object"
      ]
     },
     "execution_count": 6,
     "metadata": {},
     "output_type": "execute_result"
    }
   ],
   "source": [
    "data.iloc[0]"
   ]
  },
  {
   "cell_type": "code",
   "execution_count": 7,
   "id": "bd416239",
   "metadata": {},
   "outputs": [
    {
     "data": {
      "text/html": [
       "<div>\n",
       "<style scoped>\n",
       "    .dataframe tbody tr th:only-of-type {\n",
       "        vertical-align: middle;\n",
       "    }\n",
       "\n",
       "    .dataframe tbody tr th {\n",
       "        vertical-align: top;\n",
       "    }\n",
       "\n",
       "    .dataframe thead th {\n",
       "        text-align: right;\n",
       "    }\n",
       "</style>\n",
       "<table border=\"1\" class=\"dataframe\">\n",
       "  <thead>\n",
       "    <tr style=\"text-align: right;\">\n",
       "      <th></th>\n",
       "      <th>index</th>\n",
       "      <th>0</th>\n",
       "    </tr>\n",
       "  </thead>\n",
       "  <tbody>\n",
       "    <tr>\n",
       "      <th>0</th>\n",
       "      <td>1</td>\n",
       "      <td>1</td>\n",
       "    </tr>\n",
       "    <tr>\n",
       "      <th>1</th>\n",
       "      <td>2</td>\n",
       "      <td>2</td>\n",
       "    </tr>\n",
       "  </tbody>\n",
       "</table>\n",
       "</div>"
      ],
      "text/plain": [
       "   index  0\n",
       "0      1  1\n",
       "1      2  2"
      ]
     },
     "execution_count": 7,
     "metadata": {},
     "output_type": "execute_result"
    }
   ],
   "source": [
    "test = pd.DataFrame([1, 2], [1, 2]).reset_index()\n",
    "test"
   ]
  },
  {
   "cell_type": "code",
   "execution_count": 8,
   "id": "28e95313",
   "metadata": {},
   "outputs": [
    {
     "data": {
      "text/plain": [
       "(2, 2)"
      ]
     },
     "execution_count": 8,
     "metadata": {},
     "output_type": "execute_result"
    }
   ],
   "source": [
    "test.shape"
   ]
  },
  {
   "cell_type": "code",
   "execution_count": 9,
   "id": "f2ae7fde",
   "metadata": {},
   "outputs": [
    {
     "data": {
      "text/plain": [
       "0    1\n",
       "1    2\n",
       "Name: index, dtype: int64"
      ]
     },
     "execution_count": 9,
     "metadata": {},
     "output_type": "execute_result"
    }
   ],
   "source": [
    "test.loc[:, 'index']"
   ]
  },
  {
   "cell_type": "code",
   "execution_count": 10,
   "id": "ea041104",
   "metadata": {},
   "outputs": [],
   "source": [
    "data.reset_index(inplace=True)"
   ]
  },
  {
   "cell_type": "code",
   "execution_count": 11,
   "id": "155669b5",
   "metadata": {},
   "outputs": [
    {
     "data": {
      "text/plain": [
       "0     sell\n",
       "Name: Filename, dtype: object"
      ]
     },
     "execution_count": 11,
     "metadata": {},
     "output_type": "execute_result"
    }
   ],
   "source": [
    "data.loc[:0, 'Filename']"
   ]
  },
  {
   "cell_type": "code",
   "execution_count": 12,
   "id": "6f752a84",
   "metadata": {},
   "outputs": [
    {
     "data": {
      "text/plain": [
       "level_0                                                                                   CybergyHoldingsInc_20140520_10-Q_EX-10.27_8605...\n",
       "level_1                                                                                                                       \"\"\"\"MA\"\"\"\")\"\"\n",
       "level_2                                                                                                              ['8th day of May 2014'\n",
       "level_3                                                                                                                              'May 8\n",
       "level_4                                                                                                                            2014']\"\"\n",
       "                                                                                                                ...                        \n",
       "Insurance-Answer                                                                                                                         No\n",
       "Covenant Not To Sue                                                                                                                      []\n",
       "Covenant Not To Sue-Answer                                                                                                               No\n",
       "Third Party Beneficiary                                                                                                                  []\n",
       "Third Party Beneficiary-Answer;;;;;;;;;;;;;;;;;;;;;;;;;;;;;;;;;;;;;;;;;;;;;;;;;;;;;;;;    No\";;;;;;;;;;;;;;;;;;;;;;;;;;;;;;;;;;;;;;;;;;;...\n",
       "Name: 0, Length: 124, dtype: object"
      ]
     },
     "execution_count": 12,
     "metadata": {},
     "output_type": "execute_result"
    }
   ],
   "source": [
    "data.iloc[0]"
   ]
  },
  {
   "cell_type": "code",
   "execution_count": 13,
   "id": "eb9b8afb",
   "metadata": {},
   "outputs": [
    {
     "data": {
      "text/plain": [
       "' transfer or assign this Agreement or any part'"
      ]
     },
     "execution_count": 13,
     "metadata": {},
     "output_type": "execute_result"
    }
   ],
   "source": [
    "data.loc[8, 'Parties-Answer']"
   ]
  },
  {
   "cell_type": "code",
   "execution_count": 18,
   "id": "534881dd",
   "metadata": {},
   "outputs": [],
   "source": [
    "gov_law = pd.read_excel('../raw_governing_law.xlsx')"
   ]
  },
  {
   "cell_type": "code",
   "execution_count": 29,
   "id": "ad08dc5b",
   "metadata": {},
   "outputs": [],
   "source": [
    "dates = pd.read_excel('../raw_data/dates.xlsx')"
   ]
  },
  {
   "cell_type": "code",
   "execution_count": 20,
   "id": "1e8b102c",
   "metadata": {},
   "outputs": [
    {
     "data": {
      "text/plain": [
       "(501, 11)"
      ]
     },
     "execution_count": 20,
     "metadata": {},
     "output_type": "execute_result"
    }
   ],
   "source": [
    "dates.shape"
   ]
  },
  {
   "cell_type": "code",
   "execution_count": 22,
   "id": "1007b653",
   "metadata": {},
   "outputs": [
    {
     "data": {
      "text/html": [
       "<div>\n",
       "<style scoped>\n",
       "    .dataframe tbody tr th:only-of-type {\n",
       "        vertical-align: middle;\n",
       "    }\n",
       "\n",
       "    .dataframe tbody tr th {\n",
       "        vertical-align: top;\n",
       "    }\n",
       "\n",
       "    .dataframe thead th {\n",
       "        text-align: right;\n",
       "    }\n",
       "</style>\n",
       "<table border=\"1\" class=\"dataframe\">\n",
       "  <thead>\n",
       "    <tr style=\"text-align: right;\">\n",
       "      <th></th>\n",
       "      <th>Filename</th>\n",
       "      <th>Agreement Date</th>\n",
       "      <th>Agreement Date-Answer</th>\n",
       "    </tr>\n",
       "  </thead>\n",
       "  <tbody>\n",
       "    <tr>\n",
       "      <th>0</th>\n",
       "      <td>CybergyHoldingsInc_20140520_10-Q_EX-10.27_8605...</td>\n",
       "      <td>May 8, 2014 (Page 1)\\n\\n8th day of May 2014 (P...</td>\n",
       "      <td>2014-05-08 00:00:00</td>\n",
       "    </tr>\n",
       "    <tr>\n",
       "      <th>1</th>\n",
       "      <td>EuromediaHoldingsCorp_20070215_10SB12G_EX-10.B...</td>\n",
       "      <td>July 11 , 2006 (Page 1)</td>\n",
       "      <td>2006-07-11 00:00:00</td>\n",
       "    </tr>\n",
       "    <tr>\n",
       "      <th>2</th>\n",
       "      <td>FulucaiProductionsLtd_20131223_10-Q_EX-10.9_83...</td>\n",
       "      <td>November 15, 2012 (Page 2)</td>\n",
       "      <td>2012-11-15 00:00:00</td>\n",
       "    </tr>\n",
       "    <tr>\n",
       "      <th>3</th>\n",
       "      <td>GopageCorp_20140221_10-K_EX-10.1_8432966_EX-10...</td>\n",
       "      <td>Feb 10, 2014 (Page 1)</td>\n",
       "      <td>2014-02-10 00:00:00</td>\n",
       "    </tr>\n",
       "    <tr>\n",
       "      <th>4</th>\n",
       "      <td>IdeanomicsInc_20160330_10-K_EX-10.26_9512211_E...</td>\n",
       "      <td>December 21, 2015 (Page 1)</td>\n",
       "      <td>2015-12-21 00:00:00</td>\n",
       "    </tr>\n",
       "    <tr>\n",
       "      <th>...</th>\n",
       "      <td>...</td>\n",
       "      <td>...</td>\n",
       "      <td>...</td>\n",
       "    </tr>\n",
       "    <tr>\n",
       "      <th>496</th>\n",
       "      <td>NEONSYSTEMSINC_03_01_1999-EX-10.5-DISTRIBUTOR ...</td>\n",
       "      <td>1st day of January, 1999 (Page 1)</td>\n",
       "      <td>1999-01-01 00:00:00</td>\n",
       "    </tr>\n",
       "    <tr>\n",
       "      <th>497</th>\n",
       "      <td>NEONSYSTEMSINC_03_01_1999-EX-10.5-DISTRIBUTOR ...</td>\n",
       "      <td>1st day of January, 1996 (Page 1)</td>\n",
       "      <td>1996-01-01 00:00:00</td>\n",
       "    </tr>\n",
       "    <tr>\n",
       "      <th>498</th>\n",
       "      <td>WOMENSGOLFUNLIMITEDINC_03_29_2000-EX-10.13-END...</td>\n",
       "      <td>13th day of October, 1999 (Page 1)</td>\n",
       "      <td>1999-10-13 00:00:00</td>\n",
       "    </tr>\n",
       "    <tr>\n",
       "      <th>499</th>\n",
       "      <td>KUBIENT,INC_07_02_2020-EX-10.14-MASTER SERVICE...</td>\n",
       "      <td>the 26th day of March 2020 (Page 1)</td>\n",
       "      <td>2020-03-26 00:00:00</td>\n",
       "    </tr>\n",
       "    <tr>\n",
       "      <th>500</th>\n",
       "      <td>KUBIENT,INC_07_02_2020-EX-10.14-MASTER SERVICE...</td>\n",
       "      <td>the 5th day of February, 2020 (Page 1)</td>\n",
       "      <td>2020-02-05 00:00:00</td>\n",
       "    </tr>\n",
       "  </tbody>\n",
       "</table>\n",
       "<p>501 rows × 3 columns</p>\n",
       "</div>"
      ],
      "text/plain": [
       "                                              Filename  \\\n",
       "0    CybergyHoldingsInc_20140520_10-Q_EX-10.27_8605...   \n",
       "1    EuromediaHoldingsCorp_20070215_10SB12G_EX-10.B...   \n",
       "2    FulucaiProductionsLtd_20131223_10-Q_EX-10.9_83...   \n",
       "3    GopageCorp_20140221_10-K_EX-10.1_8432966_EX-10...   \n",
       "4    IdeanomicsInc_20160330_10-K_EX-10.26_9512211_E...   \n",
       "..                                                 ...   \n",
       "496  NEONSYSTEMSINC_03_01_1999-EX-10.5-DISTRIBUTOR ...   \n",
       "497  NEONSYSTEMSINC_03_01_1999-EX-10.5-DISTRIBUTOR ...   \n",
       "498  WOMENSGOLFUNLIMITEDINC_03_29_2000-EX-10.13-END...   \n",
       "499  KUBIENT,INC_07_02_2020-EX-10.14-MASTER SERVICE...   \n",
       "500  KUBIENT,INC_07_02_2020-EX-10.14-MASTER SERVICE...   \n",
       "\n",
       "                                        Agreement Date Agreement Date-Answer  \n",
       "0    May 8, 2014 (Page 1)\\n\\n8th day of May 2014 (P...   2014-05-08 00:00:00  \n",
       "1                              July 11 , 2006 (Page 1)   2006-07-11 00:00:00  \n",
       "2                           November 15, 2012 (Page 2)   2012-11-15 00:00:00  \n",
       "3                                Feb 10, 2014 (Page 1)   2014-02-10 00:00:00  \n",
       "4                           December 21, 2015 (Page 1)   2015-12-21 00:00:00  \n",
       "..                                                 ...                   ...  \n",
       "496                  1st day of January, 1999 (Page 1)   1999-01-01 00:00:00  \n",
       "497                  1st day of January, 1996 (Page 1)   1996-01-01 00:00:00  \n",
       "498                 13th day of October, 1999 (Page 1)   1999-10-13 00:00:00  \n",
       "499                the 26th day of March 2020 (Page 1)   2020-03-26 00:00:00  \n",
       "500             the 5th day of February, 2020 (Page 1)   2020-02-05 00:00:00  \n",
       "\n",
       "[501 rows x 3 columns]"
      ]
     },
     "execution_count": 22,
     "metadata": {},
     "output_type": "execute_result"
    }
   ],
   "source": [
    "dates.loc[:, dates.columns[:3]]"
   ]
  },
  {
   "cell_type": "code",
   "execution_count": 24,
   "id": "fc4e514a",
   "metadata": {},
   "outputs": [
    {
     "data": {
      "text/html": [
       "<div>\n",
       "<style scoped>\n",
       "    .dataframe tbody tr th:only-of-type {\n",
       "        vertical-align: middle;\n",
       "    }\n",
       "\n",
       "    .dataframe tbody tr th {\n",
       "        vertical-align: top;\n",
       "    }\n",
       "\n",
       "    .dataframe thead th {\n",
       "        text-align: right;\n",
       "    }\n",
       "</style>\n",
       "<table border=\"1\" class=\"dataframe\">\n",
       "  <thead>\n",
       "    <tr style=\"text-align: right;\">\n",
       "      <th></th>\n",
       "      <th>Effective Date</th>\n",
       "      <th>Effective Date-Answer</th>\n",
       "    </tr>\n",
       "  </thead>\n",
       "  <tbody>\n",
       "    <tr>\n",
       "      <th>0</th>\n",
       "      <td>This agreement shall begin upon the date of it...</td>\n",
       "      <td>NaN</td>\n",
       "    </tr>\n",
       "    <tr>\n",
       "      <th>1</th>\n",
       "      <td>July 11 , 2006 (Page 1)</td>\n",
       "      <td>2006-07-11 00:00:00</td>\n",
       "    </tr>\n",
       "    <tr>\n",
       "      <th>2</th>\n",
       "      <td>November 15, 2012 (Page 2)</td>\n",
       "      <td>2012-11-15 00:00:00</td>\n",
       "    </tr>\n",
       "    <tr>\n",
       "      <th>3</th>\n",
       "      <td>Feb 10, 2014 (Page 1)</td>\n",
       "      <td>2014-02-10 00:00:00</td>\n",
       "    </tr>\n",
       "    <tr>\n",
       "      <th>4</th>\n",
       "      <td>December 21, 2015 (Page 1)</td>\n",
       "      <td>2015-12-21 00:00:00</td>\n",
       "    </tr>\n",
       "    <tr>\n",
       "      <th>...</th>\n",
       "      <td>...</td>\n",
       "      <td>...</td>\n",
       "    </tr>\n",
       "    <tr>\n",
       "      <th>496</th>\n",
       "      <td>NaN</td>\n",
       "      <td>NaN</td>\n",
       "    </tr>\n",
       "    <tr>\n",
       "      <th>497</th>\n",
       "      <td>NaN</td>\n",
       "      <td>NaN</td>\n",
       "    </tr>\n",
       "    <tr>\n",
       "      <th>498</th>\n",
       "      <td>The term of this Agreement shall begin on Janu...</td>\n",
       "      <td>2000-01-01 00:00:00</td>\n",
       "    </tr>\n",
       "    <tr>\n",
       "      <th>499</th>\n",
       "      <td>February 5, 2020 (Page 1)</td>\n",
       "      <td>2020-02-05 00:00:00</td>\n",
       "    </tr>\n",
       "    <tr>\n",
       "      <th>500</th>\n",
       "      <td>the 5th day of February, 2020 (Page 1)</td>\n",
       "      <td>NaN</td>\n",
       "    </tr>\n",
       "  </tbody>\n",
       "</table>\n",
       "<p>501 rows × 2 columns</p>\n",
       "</div>"
      ],
      "text/plain": [
       "                                        Effective Date Effective Date-Answer\n",
       "0    This agreement shall begin upon the date of it...                   NaN\n",
       "1                              July 11 , 2006 (Page 1)   2006-07-11 00:00:00\n",
       "2                           November 15, 2012 (Page 2)   2012-11-15 00:00:00\n",
       "3                                Feb 10, 2014 (Page 1)   2014-02-10 00:00:00\n",
       "4                           December 21, 2015 (Page 1)   2015-12-21 00:00:00\n",
       "..                                                 ...                   ...\n",
       "496                                                NaN                   NaN\n",
       "497                                                NaN                   NaN\n",
       "498  The term of this Agreement shall begin on Janu...   2000-01-01 00:00:00\n",
       "499                          February 5, 2020 (Page 1)   2020-02-05 00:00:00\n",
       "500             the 5th day of February, 2020 (Page 1)                   NaN\n",
       "\n",
       "[501 rows x 2 columns]"
      ]
     },
     "execution_count": 24,
     "metadata": {},
     "output_type": "execute_result"
    }
   ],
   "source": [
    "dates.loc[:, dates.columns[3:5]]"
   ]
  },
  {
   "cell_type": "code",
   "execution_count": 25,
   "id": "c3dad439",
   "metadata": {},
   "outputs": [
    {
     "data": {
      "text/html": [
       "<div>\n",
       "<style scoped>\n",
       "    .dataframe tbody tr th:only-of-type {\n",
       "        vertical-align: middle;\n",
       "    }\n",
       "\n",
       "    .dataframe tbody tr th {\n",
       "        vertical-align: top;\n",
       "    }\n",
       "\n",
       "    .dataframe thead th {\n",
       "        text-align: right;\n",
       "    }\n",
       "</style>\n",
       "<table border=\"1\" class=\"dataframe\">\n",
       "  <thead>\n",
       "    <tr style=\"text-align: right;\">\n",
       "      <th></th>\n",
       "      <th>Expiration Date</th>\n",
       "      <th>Expiration Date-Answer</th>\n",
       "    </tr>\n",
       "  </thead>\n",
       "  <tbody>\n",
       "    <tr>\n",
       "      <th>0</th>\n",
       "      <td>This agreement shall begin upon the date of it...</td>\n",
       "      <td>2014-12-31 00:00:00</td>\n",
       "    </tr>\n",
       "    <tr>\n",
       "      <th>1</th>\n",
       "      <td>The term of this Agreement (the “Initial Term”...</td>\n",
       "      <td>2010-06-30 00:00:00</td>\n",
       "    </tr>\n",
       "    <tr>\n",
       "      <th>2</th>\n",
       "      <td>NaN</td>\n",
       "      <td>NaN</td>\n",
       "    </tr>\n",
       "    <tr>\n",
       "      <th>3</th>\n",
       "      <td>The initial term of this Agreement commences a...</td>\n",
       "      <td>2019-02-10 00:00:00</td>\n",
       "    </tr>\n",
       "    <tr>\n",
       "      <th>4</th>\n",
       "      <td>The Term of this Agreement (the “Term”) shall ...</td>\n",
       "      <td>1935-12-21 00:00:00</td>\n",
       "    </tr>\n",
       "    <tr>\n",
       "      <th>...</th>\n",
       "      <td>...</td>\n",
       "      <td>...</td>\n",
       "    </tr>\n",
       "    <tr>\n",
       "      <th>496</th>\n",
       "      <td>This Agreement shall be effective           th...</td>\n",
       "      <td>2004-03-31 00:00:00</td>\n",
       "    </tr>\n",
       "    <tr>\n",
       "      <th>497</th>\n",
       "      <td>This Agreement shall be effective until the ea...</td>\n",
       "      <td>1998-01-01 00:00:00</td>\n",
       "    </tr>\n",
       "    <tr>\n",
       "      <th>498</th>\n",
       "      <td>The term of this Agreement shall begin on Janu...</td>\n",
       "      <td>2004-12-31 00:00:00</td>\n",
       "    </tr>\n",
       "    <tr>\n",
       "      <th>499</th>\n",
       "      <td>NaN</td>\n",
       "      <td>NaN</td>\n",
       "    </tr>\n",
       "    <tr>\n",
       "      <th>500</th>\n",
       "      <td>The initial term of this Agreement shall be on...</td>\n",
       "      <td>2021-02-05 00:00:00</td>\n",
       "    </tr>\n",
       "  </tbody>\n",
       "</table>\n",
       "<p>501 rows × 2 columns</p>\n",
       "</div>"
      ],
      "text/plain": [
       "                                       Expiration Date Expiration Date-Answer\n",
       "0    This agreement shall begin upon the date of it...    2014-12-31 00:00:00\n",
       "1    The term of this Agreement (the “Initial Term”...    2010-06-30 00:00:00\n",
       "2                                                  NaN                    NaN\n",
       "3    The initial term of this Agreement commences a...    2019-02-10 00:00:00\n",
       "4    The Term of this Agreement (the “Term”) shall ...    1935-12-21 00:00:00\n",
       "..                                                 ...                    ...\n",
       "496  This Agreement shall be effective           th...    2004-03-31 00:00:00\n",
       "497  This Agreement shall be effective until the ea...    1998-01-01 00:00:00\n",
       "498  The term of this Agreement shall begin on Janu...    2004-12-31 00:00:00\n",
       "499                                                NaN                    NaN\n",
       "500  The initial term of this Agreement shall be on...    2021-02-05 00:00:00\n",
       "\n",
       "[501 rows x 2 columns]"
      ]
     },
     "execution_count": 25,
     "metadata": {},
     "output_type": "execute_result"
    }
   ],
   "source": [
    "dates.loc[:, dates.columns[5:7]]"
   ]
  },
  {
   "cell_type": "code",
   "execution_count": 26,
   "id": "5d5de5a2",
   "metadata": {},
   "outputs": [
    {
     "data": {
      "text/html": [
       "<div>\n",
       "<style scoped>\n",
       "    .dataframe tbody tr th:only-of-type {\n",
       "        vertical-align: middle;\n",
       "    }\n",
       "\n",
       "    .dataframe tbody tr th {\n",
       "        vertical-align: top;\n",
       "    }\n",
       "\n",
       "    .dataframe thead th {\n",
       "        text-align: right;\n",
       "    }\n",
       "</style>\n",
       "<table border=\"1\" class=\"dataframe\">\n",
       "  <thead>\n",
       "    <tr style=\"text-align: right;\">\n",
       "      <th></th>\n",
       "      <th>Renewal Term</th>\n",
       "      <th>Renewal Term-Answer</th>\n",
       "    </tr>\n",
       "  </thead>\n",
       "  <tbody>\n",
       "    <tr>\n",
       "      <th>0</th>\n",
       "      <td>This agreement shall begin upon the date of it...</td>\n",
       "      <td>successive 1 year</td>\n",
       "    </tr>\n",
       "    <tr>\n",
       "      <th>1</th>\n",
       "      <td>At Rogers’ option, this Agreement shall renew ...</td>\n",
       "      <td>2 years</td>\n",
       "    </tr>\n",
       "    <tr>\n",
       "      <th>2</th>\n",
       "      <td>License Term Perpetual, unlimited runs x Other...</td>\n",
       "      <td>perpetual, 11/15/2014</td>\n",
       "    </tr>\n",
       "    <tr>\n",
       "      <th>3</th>\n",
       "      <td>Thereafter, this Agreement shall renew automat...</td>\n",
       "      <td>3 years</td>\n",
       "    </tr>\n",
       "    <tr>\n",
       "      <th>4</th>\n",
       "      <td>NaN</td>\n",
       "      <td>NaN</td>\n",
       "    </tr>\n",
       "    <tr>\n",
       "      <th>...</th>\n",
       "      <td>...</td>\n",
       "      <td>...</td>\n",
       "    </tr>\n",
       "    <tr>\n",
       "      <th>496</th>\n",
       "      <td>Upon the expiration           of such term, th...</td>\n",
       "      <td>successive 1 year</td>\n",
       "    </tr>\n",
       "    <tr>\n",
       "      <th>497</th>\n",
       "      <td>This Agreement shall be effective until the ea...</td>\n",
       "      <td>successive 1 year</td>\n",
       "    </tr>\n",
       "    <tr>\n",
       "      <th>498</th>\n",
       "      <td>The Company may renew this Agreement on the sa...</td>\n",
       "      <td>5 year</td>\n",
       "    </tr>\n",
       "    <tr>\n",
       "      <th>499</th>\n",
       "      <td>NaN</td>\n",
       "      <td>NaN</td>\n",
       "    </tr>\n",
       "    <tr>\n",
       "      <th>500</th>\n",
       "      <td>This Agreement will automatically renew for ad...</td>\n",
       "      <td>successive 1 year</td>\n",
       "    </tr>\n",
       "  </tbody>\n",
       "</table>\n",
       "<p>501 rows × 2 columns</p>\n",
       "</div>"
      ],
      "text/plain": [
       "                                          Renewal Term    Renewal Term-Answer\n",
       "0    This agreement shall begin upon the date of it...      successive 1 year\n",
       "1    At Rogers’ option, this Agreement shall renew ...                2 years\n",
       "2    License Term Perpetual, unlimited runs x Other...  perpetual, 11/15/2014\n",
       "3    Thereafter, this Agreement shall renew automat...                3 years\n",
       "4                                                  NaN                    NaN\n",
       "..                                                 ...                    ...\n",
       "496  Upon the expiration           of such term, th...      successive 1 year\n",
       "497  This Agreement shall be effective until the ea...      successive 1 year\n",
       "498  The Company may renew this Agreement on the sa...                 5 year\n",
       "499                                                NaN                    NaN\n",
       "500  This Agreement will automatically renew for ad...      successive 1 year\n",
       "\n",
       "[501 rows x 2 columns]"
      ]
     },
     "execution_count": 26,
     "metadata": {},
     "output_type": "execute_result"
    }
   ],
   "source": [
    "dates.loc[:, dates.columns[7:9]]"
   ]
  },
  {
   "cell_type": "code",
   "execution_count": 27,
   "id": "c2976b89",
   "metadata": {},
   "outputs": [
    {
     "data": {
      "text/html": [
       "<div>\n",
       "<style scoped>\n",
       "    .dataframe tbody tr th:only-of-type {\n",
       "        vertical-align: middle;\n",
       "    }\n",
       "\n",
       "    .dataframe tbody tr th {\n",
       "        vertical-align: top;\n",
       "    }\n",
       "\n",
       "    .dataframe thead th {\n",
       "        text-align: right;\n",
       "    }\n",
       "</style>\n",
       "<table border=\"1\" class=\"dataframe\">\n",
       "  <thead>\n",
       "    <tr style=\"text-align: right;\">\n",
       "      <th></th>\n",
       "      <th>Notice Period to Terminate Renewal</th>\n",
       "      <th>Notice Period to Terminate Renewal- Answer</th>\n",
       "    </tr>\n",
       "  </thead>\n",
       "  <tbody>\n",
       "    <tr>\n",
       "      <th>0</th>\n",
       "      <td>This Agreement may be terminated by either par...</td>\n",
       "      <td>30 days</td>\n",
       "    </tr>\n",
       "    <tr>\n",
       "      <th>1</th>\n",
       "      <td>Notwithstanding the foregoing, if, at the expi...</td>\n",
       "      <td>60 days</td>\n",
       "    </tr>\n",
       "    <tr>\n",
       "      <th>2</th>\n",
       "      <td>NaN</td>\n",
       "      <td>NaN</td>\n",
       "    </tr>\n",
       "    <tr>\n",
       "      <th>3</th>\n",
       "      <td>Thereafter, this Agreement shall renew automat...</td>\n",
       "      <td>90 days</td>\n",
       "    </tr>\n",
       "    <tr>\n",
       "      <th>4</th>\n",
       "      <td>NaN</td>\n",
       "      <td>NaN</td>\n",
       "    </tr>\n",
       "    <tr>\n",
       "      <th>...</th>\n",
       "      <td>...</td>\n",
       "      <td>...</td>\n",
       "    </tr>\n",
       "    <tr>\n",
       "      <th>496</th>\n",
       "      <td>Upon the expiration           of such term, th...</td>\n",
       "      <td>60 days</td>\n",
       "    </tr>\n",
       "    <tr>\n",
       "      <th>497</th>\n",
       "      <td>This Agreement shall be effective until the ea...</td>\n",
       "      <td>60 days</td>\n",
       "    </tr>\n",
       "    <tr>\n",
       "      <th>498</th>\n",
       "      <td>NaN</td>\n",
       "      <td>NaN</td>\n",
       "    </tr>\n",
       "    <tr>\n",
       "      <th>499</th>\n",
       "      <td>NaN</td>\n",
       "      <td>NaN</td>\n",
       "    </tr>\n",
       "    <tr>\n",
       "      <th>500</th>\n",
       "      <td>NaN</td>\n",
       "      <td>NaN</td>\n",
       "    </tr>\n",
       "  </tbody>\n",
       "</table>\n",
       "<p>501 rows × 2 columns</p>\n",
       "</div>"
      ],
      "text/plain": [
       "                    Notice Period to Terminate Renewal  \\\n",
       "0    This Agreement may be terminated by either par...   \n",
       "1    Notwithstanding the foregoing, if, at the expi...   \n",
       "2                                                  NaN   \n",
       "3    Thereafter, this Agreement shall renew automat...   \n",
       "4                                                  NaN   \n",
       "..                                                 ...   \n",
       "496  Upon the expiration           of such term, th...   \n",
       "497  This Agreement shall be effective until the ea...   \n",
       "498                                                NaN   \n",
       "499                                                NaN   \n",
       "500                                                NaN   \n",
       "\n",
       "    Notice Period to Terminate Renewal- Answer  \n",
       "0                                      30 days  \n",
       "1                                      60 days  \n",
       "2                                          NaN  \n",
       "3                                      90 days  \n",
       "4                                          NaN  \n",
       "..                                         ...  \n",
       "496                                    60 days  \n",
       "497                                    60 days  \n",
       "498                                        NaN  \n",
       "499                                        NaN  \n",
       "500                                        NaN  \n",
       "\n",
       "[501 rows x 2 columns]"
      ]
     },
     "execution_count": 27,
     "metadata": {},
     "output_type": "execute_result"
    }
   ],
   "source": [
    "dates.loc[:, dates.columns[9:11]]"
   ]
  },
  {
   "cell_type": "code",
   "execution_count": null,
   "id": "40b6e7cd",
   "metadata": {},
   "outputs": [],
   "source": []
  }
 ],
 "metadata": {
  "kernelspec": {
   "display_name": "Python 3 (ipykernel)",
   "language": "python",
   "name": "python3"
  },
  "language_info": {
   "codemirror_mode": {
    "name": "ipython",
    "version": 3
   },
   "file_extension": ".py",
   "mimetype": "text/x-python",
   "name": "python",
   "nbconvert_exporter": "python",
   "pygments_lexer": "ipython3",
   "version": "3.8.12"
  },
  "toc": {
   "base_numbering": 1,
   "nav_menu": {},
   "number_sections": true,
   "sideBar": true,
   "skip_h1_title": false,
   "title_cell": "Table of Contents",
   "title_sidebar": "Contents",
   "toc_cell": false,
   "toc_position": {},
   "toc_section_display": true,
   "toc_window_display": false
  }
 },
 "nbformat": 4,
 "nbformat_minor": 5
}
